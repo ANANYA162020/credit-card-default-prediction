{
 "cells": [
  {
   "cell_type": "markdown",
   "metadata": {
    "id": "rBZOQAcItHJZ"
   },
   "source": [
    "**Run the following two cells before you begin.**"
   ]
  },
  {
   "cell_type": "code",
   "execution_count": 1,
   "metadata": {
    "colab": {
     "base_uri": "https://localhost:8080/",
     "height": 34
    },
    "id": "LPomfbr9tHJl",
    "outputId": "159fdc78-bcb7-4409-b808-74121bd31531"
   },
   "outputs": [
    {
     "data": {
      "application/javascript": [
       "IPython.notebook.set_autosave_interval(10000)"
      ]
     },
     "metadata": {
      "tags": []
     },
     "output_type": "display_data"
    },
    {
     "name": "stdout",
     "output_type": "stream",
     "text": [
      "Autosaving every 10 seconds\n"
     ]
    }
   ],
   "source": [
    "%autosave 10"
   ]
  },
  {
   "cell_type": "code",
   "execution_count": 2,
   "metadata": {
    "colab": {
     "base_uri": "https://localhost:8080/",
     "height": 72,
     "resources": {
      "http://localhost:8080/nbextensions/google.colab/files.js": {
       "data": "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",
       "headers": [
        [
         "content-type",
         "application/javascript"
        ]
       ],
       "ok": true,
       "status": 200,
       "status_text": ""
      }
     }
    },
    "id": "hRu209RqyF3Y",
    "outputId": "425485ac-967e-4686-c0ce-3361cf09c324"
   },
   "outputs": [
    {
     "data": {
      "text/html": [
       "\n",
       "     <input type=\"file\" id=\"files-f0ef8323-88a2-411b-8f75-afda7f67fdd2\" name=\"files[]\" multiple disabled\n",
       "        style=\"border:none\" />\n",
       "     <output id=\"result-f0ef8323-88a2-411b-8f75-afda7f67fdd2\">\n",
       "      Upload widget is only available when the cell has been executed in the\n",
       "      current browser session. Please rerun this cell to enable.\n",
       "      </output>\n",
       "      <script src=\"/nbextensions/google.colab/files.js\"></script> "
      ],
      "text/plain": [
       "<IPython.core.display.HTML object>"
      ]
     },
     "metadata": {
      "tags": []
     },
     "output_type": "display_data"
    },
    {
     "name": "stdout",
     "output_type": "stream",
     "text": [
      "Saving cleaned_data.csv to cleaned_data.csv\n"
     ]
    }
   ],
   "source": [
    "from google.colab import files\n",
    "upload = files.upload()"
   ]
  },
  {
   "cell_type": "code",
   "execution_count": 3,
   "metadata": {
    "id": "zrvzGkdutHJm"
   },
   "outputs": [],
   "source": [
    "import pandas as pd\n",
    "import numpy as np\n",
    "import matplotlib.pyplot as plt\n",
    "\n",
    "%matplotlib inline\n",
    "\n",
    "df = pd.read_csv('cleaned_data.csv')"
   ]
  },
  {
   "cell_type": "markdown",
   "metadata": {
    "id": "tgwTXYsstHJn"
   },
   "source": [
    "**Run the following 3 cells to create a list of features, create a train/test split, and instantiate a random forest classifier.**"
   ]
  },
  {
   "cell_type": "code",
   "execution_count": 4,
   "metadata": {
    "colab": {
     "base_uri": "https://localhost:8080/"
    },
    "id": "rPG5PEQLtHJn",
    "outputId": "ed0c055b-af54-43f6-c7c7-e135a8028e74"
   },
   "outputs": [
    {
     "data": {
      "text/plain": [
       "['LIMIT_BAL',\n",
       " 'EDUCATION',\n",
       " 'MARRIAGE',\n",
       " 'AGE',\n",
       " 'PAY_1',\n",
       " 'BILL_AMT1',\n",
       " 'BILL_AMT2',\n",
       " 'BILL_AMT3',\n",
       " 'BILL_AMT4',\n",
       " 'BILL_AMT5',\n",
       " 'BILL_AMT6',\n",
       " 'PAY_AMT1',\n",
       " 'PAY_AMT2',\n",
       " 'PAY_AMT3',\n",
       " 'PAY_AMT4',\n",
       " 'PAY_AMT5',\n",
       " 'PAY_AMT6',\n",
       " 'default payment next month']"
      ]
     },
     "execution_count": 4,
     "metadata": {
      "tags": []
     },
     "output_type": "execute_result"
    }
   ],
   "source": [
    "features_response = df.columns.tolist()\n",
    "items_to_remove = ['ID', 'SEX', 'PAY_2', 'PAY_3', 'PAY_4', 'PAY_5', 'PAY_6',\n",
    "                   'EDUCATION_CAT', 'graduate school', 'high school', 'none',\n",
    "                   'others', 'university']\n",
    "features_response = [item for item in features_response if item not in items_to_remove]\n",
    "features_response"
   ]
  },
  {
   "cell_type": "code",
   "execution_count": 5,
   "metadata": {
    "id": "iLchS0P7tHJo"
   },
   "outputs": [],
   "source": [
    "from sklearn.model_selection import train_test_split\n",
    "\n",
    "X_train, X_test, y_train, y_test = train_test_split(\n",
    "    df[features_response[:-1]].values,\n",
    "    df['default payment next month'].values,\n",
    "    test_size=0.2, random_state=24\n",
    ")"
   ]
  },
  {
   "cell_type": "code",
   "execution_count": 6,
   "metadata": {
    "id": "KOZ2tvThtHJo"
   },
   "outputs": [],
   "source": [
    "from sklearn.ensemble import RandomForestClassifier\n",
    "\n",
    "rf = RandomForestClassifier(\n",
    "    n_estimators=10, criterion='gini', max_depth=3,\n",
    "    min_samples_split=2, min_samples_leaf=1, min_weight_fraction_leaf=0.0,\n",
    "    max_features='auto', max_leaf_nodes=None, min_impurity_decrease=0.0,\n",
    "    min_impurity_split=None, bootstrap=True, oob_score=False, n_jobs=None,\n",
    "    random_state=4, verbose=0, warm_start=False, class_weight=None\n",
    ")"
   ]
  },
  {
   "cell_type": "markdown",
   "metadata": {
    "id": "dK0Nqo_atHJp"
   },
   "source": [
    "**Create a dictionary representing the grid for the `max_depth` and `n_estimators` hyperparameters that will be searched. Include depths of 3, 6, 9, and 12, and 10, 50, 100, and 200 trees.**"
   ]
  },
  {
   "cell_type": "code",
   "execution_count": 7,
   "metadata": {
    "id": "S3dgk-rrtHJp"
   },
   "outputs": [],
   "source": [
    "param_grid = {\n",
    "    'max_depth' : [3,6,9,12,10,50,100,200],\n",
    "    'n_estimators' : [3,6,9,12,10,50,100,200] \n",
    "    }"
   ]
  },
  {
   "cell_type": "markdown",
   "metadata": {
    "id": "4Ld16_N9tHJq"
   },
   "source": [
    "________________________________________________________________\n",
    "**Instantiate a `GridSearchCV` object using the same options that we have previously in this course, but with the dictionary of hyperparameters created above. Set `verbose=2` to see the output for each fit performed.**"
   ]
  },
  {
   "cell_type": "code",
   "execution_count": 9,
   "metadata": {
    "id": "TlbJ1nJytHJq"
   },
   "outputs": [],
   "source": [
    "from sklearn.model_selection import GridSearchCV"
   ]
  },
  {
   "cell_type": "code",
   "execution_count": 12,
   "metadata": {
    "colab": {
     "base_uri": "https://localhost:8080/"
    },
    "id": "jdgY2xWF4O-w",
    "outputId": "be5ba04e-abf6-4314-f9fa-72d429cfdf20"
   },
   "outputs": [
    {
     "data": {
      "text/plain": [
       "(21331, 17)"
      ]
     },
     "execution_count": 12,
     "metadata": {
      "tags": []
     },
     "output_type": "execute_result"
    }
   ],
   "source": [
    "X_train.shape"
   ]
  },
  {
   "cell_type": "code",
   "execution_count": 16,
   "metadata": {
    "id": "L8WkIfXc5ILy"
   },
   "outputs": [],
   "source": [
    "cv = GridSearchCV(param_grid=param_grid, scoring = 'roc_auc', n_jobs = None, iid=False, refit=True, estimator = rf, cv=4, verbose=2, pre_dispatch=None, error_score=np.nan, return_train_score=True)"
   ]
  },
  {
   "cell_type": "markdown",
   "metadata": {
    "id": "BJ28WUAntHJr"
   },
   "source": [
    "____________________________________________________\n",
    "**Fit the `GridSearchCV` object on the training data.**"
   ]
  },
  {
   "cell_type": "code",
   "execution_count": 17,
   "metadata": {
    "colab": {
     "base_uri": "https://localhost:8080/"
    },
    "id": "0Td3WrultHJr",
    "outputId": "30b91aff-f211-4bde-e541-a6391171a37e"
   },
   "outputs": [
    {
     "name": "stdout",
     "output_type": "stream",
     "text": [
      "Fitting 4 folds for each of 64 candidates, totalling 256 fits\n",
      "[CV] max_depth=3, n_estimators=3 .....................................\n",
      "[CV] ...................... max_depth=3, n_estimators=3, total=   0.1s\n",
      "[CV] max_depth=3, n_estimators=3 .....................................\n",
      "[CV] ...................... max_depth=3, n_estimators=3, total=   0.0s\n",
      "[CV] max_depth=3, n_estimators=3 .....................................\n",
      "[CV] ...................... max_depth=3, n_estimators=3, total=   0.0s\n",
      "[CV] max_depth=3, n_estimators=3 .....................................\n"
     ]
    },
    {
     "name": "stderr",
     "output_type": "stream",
     "text": [
      "[Parallel(n_jobs=1)]: Using backend SequentialBackend with 1 concurrent workers.\n",
      "[Parallel(n_jobs=1)]: Done   1 out of   1 | elapsed:    0.1s remaining:    0.0s\n"
     ]
    },
    {
     "name": "stdout",
     "output_type": "stream",
     "text": [
      "[CV] ...................... max_depth=3, n_estimators=3, total=   0.0s\n",
      "[CV] max_depth=3, n_estimators=6 .....................................\n",
      "[CV] ...................... max_depth=3, n_estimators=6, total=   0.1s\n",
      "[CV] max_depth=3, n_estimators=6 .....................................\n",
      "[CV] ...................... max_depth=3, n_estimators=6, total=   0.1s\n",
      "[CV] max_depth=3, n_estimators=6 .....................................\n",
      "[CV] ...................... max_depth=3, n_estimators=6, total=   0.1s\n",
      "[CV] max_depth=3, n_estimators=6 .....................................\n",
      "[CV] ...................... max_depth=3, n_estimators=6, total=   0.1s\n",
      "[CV] max_depth=3, n_estimators=9 .....................................\n",
      "[CV] ...................... max_depth=3, n_estimators=9, total=   0.1s\n",
      "[CV] max_depth=3, n_estimators=9 .....................................\n",
      "[CV] ...................... max_depth=3, n_estimators=9, total=   0.1s\n",
      "[CV] max_depth=3, n_estimators=9 .....................................\n",
      "[CV] ...................... max_depth=3, n_estimators=9, total=   0.1s\n",
      "[CV] max_depth=3, n_estimators=9 .....................................\n",
      "[CV] ...................... max_depth=3, n_estimators=9, total=   0.1s\n",
      "[CV] max_depth=3, n_estimators=12 ....................................\n",
      "[CV] ..................... max_depth=3, n_estimators=12, total=   0.2s\n",
      "[CV] max_depth=3, n_estimators=12 ....................................\n",
      "[CV] ..................... max_depth=3, n_estimators=12, total=   0.2s\n",
      "[CV] max_depth=3, n_estimators=12 ....................................\n",
      "[CV] ..................... max_depth=3, n_estimators=12, total=   0.2s\n",
      "[CV] max_depth=3, n_estimators=12 ....................................\n",
      "[CV] ..................... max_depth=3, n_estimators=12, total=   0.2s\n",
      "[CV] max_depth=3, n_estimators=10 ....................................\n",
      "[CV] ..................... max_depth=3, n_estimators=10, total=   0.1s\n",
      "[CV] max_depth=3, n_estimators=10 ....................................\n",
      "[CV] ..................... max_depth=3, n_estimators=10, total=   0.1s\n",
      "[CV] max_depth=3, n_estimators=10 ....................................\n",
      "[CV] ..................... max_depth=3, n_estimators=10, total=   0.1s\n",
      "[CV] max_depth=3, n_estimators=10 ....................................\n",
      "[CV] ..................... max_depth=3, n_estimators=10, total=   0.1s\n",
      "[CV] max_depth=3, n_estimators=50 ....................................\n",
      "[CV] ..................... max_depth=3, n_estimators=50, total=   0.7s\n",
      "[CV] max_depth=3, n_estimators=50 ....................................\n",
      "[CV] ..................... max_depth=3, n_estimators=50, total=   0.7s\n",
      "[CV] max_depth=3, n_estimators=50 ....................................\n",
      "[CV] ..................... max_depth=3, n_estimators=50, total=   0.7s\n",
      "[CV] max_depth=3, n_estimators=50 ....................................\n",
      "[CV] ..................... max_depth=3, n_estimators=50, total=   0.7s\n",
      "[CV] max_depth=3, n_estimators=100 ...................................\n",
      "[CV] .................... max_depth=3, n_estimators=100, total=   1.3s\n",
      "[CV] max_depth=3, n_estimators=100 ...................................\n",
      "[CV] .................... max_depth=3, n_estimators=100, total=   1.3s\n",
      "[CV] max_depth=3, n_estimators=100 ...................................\n",
      "[CV] .................... max_depth=3, n_estimators=100, total=   1.3s\n",
      "[CV] max_depth=3, n_estimators=100 ...................................\n",
      "[CV] .................... max_depth=3, n_estimators=100, total=   1.3s\n",
      "[CV] max_depth=3, n_estimators=200 ...................................\n",
      "[CV] .................... max_depth=3, n_estimators=200, total=   2.7s\n",
      "[CV] max_depth=3, n_estimators=200 ...................................\n",
      "[CV] .................... max_depth=3, n_estimators=200, total=   2.6s\n",
      "[CV] max_depth=3, n_estimators=200 ...................................\n",
      "[CV] .................... max_depth=3, n_estimators=200, total=   2.6s\n",
      "[CV] max_depth=3, n_estimators=200 ...................................\n",
      "[CV] .................... max_depth=3, n_estimators=200, total=   2.6s\n",
      "[CV] max_depth=6, n_estimators=3 .....................................\n",
      "[CV] ...................... max_depth=6, n_estimators=3, total=   0.1s\n",
      "[CV] max_depth=6, n_estimators=3 .....................................\n",
      "[CV] ...................... max_depth=6, n_estimators=3, total=   0.1s\n",
      "[CV] max_depth=6, n_estimators=3 .....................................\n",
      "[CV] ...................... max_depth=6, n_estimators=3, total=   0.1s\n",
      "[CV] max_depth=6, n_estimators=3 .....................................\n",
      "[CV] ...................... max_depth=6, n_estimators=3, total=   0.1s\n",
      "[CV] max_depth=6, n_estimators=6 .....................................\n",
      "[CV] ...................... max_depth=6, n_estimators=6, total=   0.1s\n",
      "[CV] max_depth=6, n_estimators=6 .....................................\n",
      "[CV] ...................... max_depth=6, n_estimators=6, total=   0.1s\n",
      "[CV] max_depth=6, n_estimators=6 .....................................\n",
      "[CV] ...................... max_depth=6, n_estimators=6, total=   0.1s\n",
      "[CV] max_depth=6, n_estimators=6 .....................................\n",
      "[CV] ...................... max_depth=6, n_estimators=6, total=   0.1s\n",
      "[CV] max_depth=6, n_estimators=9 .....................................\n",
      "[CV] ...................... max_depth=6, n_estimators=9, total=   0.2s\n",
      "[CV] max_depth=6, n_estimators=9 .....................................\n",
      "[CV] ...................... max_depth=6, n_estimators=9, total=   0.2s\n",
      "[CV] max_depth=6, n_estimators=9 .....................................\n",
      "[CV] ...................... max_depth=6, n_estimators=9, total=   0.2s\n",
      "[CV] max_depth=6, n_estimators=9 .....................................\n",
      "[CV] ...................... max_depth=6, n_estimators=9, total=   0.2s\n",
      "[CV] max_depth=6, n_estimators=12 ....................................\n",
      "[CV] ..................... max_depth=6, n_estimators=12, total=   0.3s\n",
      "[CV] max_depth=6, n_estimators=12 ....................................\n",
      "[CV] ..................... max_depth=6, n_estimators=12, total=   0.3s\n",
      "[CV] max_depth=6, n_estimators=12 ....................................\n",
      "[CV] ..................... max_depth=6, n_estimators=12, total=   0.3s\n",
      "[CV] max_depth=6, n_estimators=12 ....................................\n",
      "[CV] ..................... max_depth=6, n_estimators=12, total=   0.3s\n",
      "[CV] max_depth=6, n_estimators=10 ....................................\n",
      "[CV] ..................... max_depth=6, n_estimators=10, total=   0.2s\n",
      "[CV] max_depth=6, n_estimators=10 ....................................\n",
      "[CV] ..................... max_depth=6, n_estimators=10, total=   0.2s\n",
      "[CV] max_depth=6, n_estimators=10 ....................................\n",
      "[CV] ..................... max_depth=6, n_estimators=10, total=   0.2s\n",
      "[CV] max_depth=6, n_estimators=10 ....................................\n",
      "[CV] ..................... max_depth=6, n_estimators=10, total=   0.2s\n",
      "[CV] max_depth=6, n_estimators=50 ....................................\n",
      "[CV] ..................... max_depth=6, n_estimators=50, total=   1.1s\n",
      "[CV] max_depth=6, n_estimators=50 ....................................\n",
      "[CV] ..................... max_depth=6, n_estimators=50, total=   1.1s\n",
      "[CV] max_depth=6, n_estimators=50 ....................................\n",
      "[CV] ..................... max_depth=6, n_estimators=50, total=   1.1s\n",
      "[CV] max_depth=6, n_estimators=50 ....................................\n",
      "[CV] ..................... max_depth=6, n_estimators=50, total=   1.1s\n",
      "[CV] max_depth=6, n_estimators=100 ...................................\n",
      "[CV] .................... max_depth=6, n_estimators=100, total=   2.3s\n",
      "[CV] max_depth=6, n_estimators=100 ...................................\n",
      "[CV] .................... max_depth=6, n_estimators=100, total=   2.2s\n",
      "[CV] max_depth=6, n_estimators=100 ...................................\n",
      "[CV] .................... max_depth=6, n_estimators=100, total=   2.2s\n",
      "[CV] max_depth=6, n_estimators=100 ...................................\n",
      "[CV] .................... max_depth=6, n_estimators=100, total=   2.2s\n",
      "[CV] max_depth=6, n_estimators=200 ...................................\n",
      "[CV] .................... max_depth=6, n_estimators=200, total=   4.5s\n",
      "[CV] max_depth=6, n_estimators=200 ...................................\n",
      "[CV] .................... max_depth=6, n_estimators=200, total=   4.5s\n",
      "[CV] max_depth=6, n_estimators=200 ...................................\n",
      "[CV] .................... max_depth=6, n_estimators=200, total=   4.5s\n",
      "[CV] max_depth=6, n_estimators=200 ...................................\n",
      "[CV] .................... max_depth=6, n_estimators=200, total=   4.5s\n",
      "[CV] max_depth=9, n_estimators=3 .....................................\n",
      "[CV] ...................... max_depth=9, n_estimators=3, total=   0.1s\n",
      "[CV] max_depth=9, n_estimators=3 .....................................\n",
      "[CV] ...................... max_depth=9, n_estimators=3, total=   0.1s\n",
      "[CV] max_depth=9, n_estimators=3 .....................................\n",
      "[CV] ...................... max_depth=9, n_estimators=3, total=   0.1s\n",
      "[CV] max_depth=9, n_estimators=3 .....................................\n",
      "[CV] ...................... max_depth=9, n_estimators=3, total=   0.1s\n",
      "[CV] max_depth=9, n_estimators=6 .....................................\n",
      "[CV] ...................... max_depth=9, n_estimators=6, total=   0.2s\n",
      "[CV] max_depth=9, n_estimators=6 .....................................\n",
      "[CV] ...................... max_depth=9, n_estimators=6, total=   0.2s\n",
      "[CV] max_depth=9, n_estimators=6 .....................................\n",
      "[CV] ...................... max_depth=9, n_estimators=6, total=   0.2s\n",
      "[CV] max_depth=9, n_estimators=6 .....................................\n",
      "[CV] ...................... max_depth=9, n_estimators=6, total=   0.2s\n",
      "[CV] max_depth=9, n_estimators=9 .....................................\n",
      "[CV] ...................... max_depth=9, n_estimators=9, total=   0.3s\n",
      "[CV] max_depth=9, n_estimators=9 .....................................\n",
      "[CV] ...................... max_depth=9, n_estimators=9, total=   0.3s\n",
      "[CV] max_depth=9, n_estimators=9 .....................................\n",
      "[CV] ...................... max_depth=9, n_estimators=9, total=   0.3s\n",
      "[CV] max_depth=9, n_estimators=9 .....................................\n",
      "[CV] ...................... max_depth=9, n_estimators=9, total=   0.3s\n",
      "[CV] max_depth=9, n_estimators=12 ....................................\n",
      "[CV] ..................... max_depth=9, n_estimators=12, total=   0.4s\n",
      "[CV] max_depth=9, n_estimators=12 ....................................\n",
      "[CV] ..................... max_depth=9, n_estimators=12, total=   0.4s\n",
      "[CV] max_depth=9, n_estimators=12 ....................................\n",
      "[CV] ..................... max_depth=9, n_estimators=12, total=   0.4s\n",
      "[CV] max_depth=9, n_estimators=12 ....................................\n",
      "[CV] ..................... max_depth=9, n_estimators=12, total=   0.4s\n",
      "[CV] max_depth=9, n_estimators=10 ....................................\n",
      "[CV] ..................... max_depth=9, n_estimators=10, total=   0.3s\n",
      "[CV] max_depth=9, n_estimators=10 ....................................\n",
      "[CV] ..................... max_depth=9, n_estimators=10, total=   0.3s\n",
      "[CV] max_depth=9, n_estimators=10 ....................................\n",
      "[CV] ..................... max_depth=9, n_estimators=10, total=   0.3s\n",
      "[CV] max_depth=9, n_estimators=10 ....................................\n",
      "[CV] ..................... max_depth=9, n_estimators=10, total=   0.3s\n",
      "[CV] max_depth=9, n_estimators=50 ....................................\n",
      "[CV] ..................... max_depth=9, n_estimators=50, total=   1.5s\n",
      "[CV] max_depth=9, n_estimators=50 ....................................\n",
      "[CV] ..................... max_depth=9, n_estimators=50, total=   1.6s\n",
      "[CV] max_depth=9, n_estimators=50 ....................................\n",
      "[CV] ..................... max_depth=9, n_estimators=50, total=   1.6s\n",
      "[CV] max_depth=9, n_estimators=50 ....................................\n",
      "[CV] ..................... max_depth=9, n_estimators=50, total=   1.6s\n",
      "[CV] max_depth=9, n_estimators=100 ...................................\n",
      "[CV] .................... max_depth=9, n_estimators=100, total=   3.1s\n",
      "[CV] max_depth=9, n_estimators=100 ...................................\n",
      "[CV] .................... max_depth=9, n_estimators=100, total=   3.1s\n",
      "[CV] max_depth=9, n_estimators=100 ...................................\n",
      "[CV] .................... max_depth=9, n_estimators=100, total=   3.1s\n",
      "[CV] max_depth=9, n_estimators=100 ...................................\n",
      "[CV] .................... max_depth=9, n_estimators=100, total=   3.1s\n",
      "[CV] max_depth=9, n_estimators=200 ...................................\n",
      "[CV] .................... max_depth=9, n_estimators=200, total=   6.3s\n",
      "[CV] max_depth=9, n_estimators=200 ...................................\n",
      "[CV] .................... max_depth=9, n_estimators=200, total=   6.3s\n",
      "[CV] max_depth=9, n_estimators=200 ...................................\n",
      "[CV] .................... max_depth=9, n_estimators=200, total=   6.2s\n",
      "[CV] max_depth=9, n_estimators=200 ...................................\n",
      "[CV] .................... max_depth=9, n_estimators=200, total=   6.3s\n",
      "[CV] max_depth=12, n_estimators=3 ....................................\n",
      "[CV] ..................... max_depth=12, n_estimators=3, total=   0.1s\n",
      "[CV] max_depth=12, n_estimators=3 ....................................\n",
      "[CV] ..................... max_depth=12, n_estimators=3, total=   0.1s\n",
      "[CV] max_depth=12, n_estimators=3 ....................................\n",
      "[CV] ..................... max_depth=12, n_estimators=3, total=   0.1s\n",
      "[CV] max_depth=12, n_estimators=3 ....................................\n",
      "[CV] ..................... max_depth=12, n_estimators=3, total=   0.1s\n",
      "[CV] max_depth=12, n_estimators=6 ....................................\n",
      "[CV] ..................... max_depth=12, n_estimators=6, total=   0.2s\n",
      "[CV] max_depth=12, n_estimators=6 ....................................\n",
      "[CV] ..................... max_depth=12, n_estimators=6, total=   0.2s\n",
      "[CV] max_depth=12, n_estimators=6 ....................................\n",
      "[CV] ..................... max_depth=12, n_estimators=6, total=   0.2s\n",
      "[CV] max_depth=12, n_estimators=6 ....................................\n",
      "[CV] ..................... max_depth=12, n_estimators=6, total=   0.2s\n",
      "[CV] max_depth=12, n_estimators=9 ....................................\n",
      "[CV] ..................... max_depth=12, n_estimators=9, total=   0.4s\n",
      "[CV] max_depth=12, n_estimators=9 ....................................\n",
      "[CV] ..................... max_depth=12, n_estimators=9, total=   0.4s\n",
      "[CV] max_depth=12, n_estimators=9 ....................................\n",
      "[CV] ..................... max_depth=12, n_estimators=9, total=   0.4s\n",
      "[CV] max_depth=12, n_estimators=9 ....................................\n",
      "[CV] ..................... max_depth=12, n_estimators=9, total=   0.4s\n",
      "[CV] max_depth=12, n_estimators=12 ...................................\n",
      "[CV] .................... max_depth=12, n_estimators=12, total=   0.5s\n",
      "[CV] max_depth=12, n_estimators=12 ...................................\n",
      "[CV] .................... max_depth=12, n_estimators=12, total=   0.5s\n",
      "[CV] max_depth=12, n_estimators=12 ...................................\n",
      "[CV] .................... max_depth=12, n_estimators=12, total=   0.5s\n",
      "[CV] max_depth=12, n_estimators=12 ...................................\n",
      "[CV] .................... max_depth=12, n_estimators=12, total=   0.5s\n",
      "[CV] max_depth=12, n_estimators=10 ...................................\n",
      "[CV] .................... max_depth=12, n_estimators=10, total=   0.4s\n",
      "[CV] max_depth=12, n_estimators=10 ...................................\n",
      "[CV] .................... max_depth=12, n_estimators=10, total=   0.4s\n",
      "[CV] max_depth=12, n_estimators=10 ...................................\n",
      "[CV] .................... max_depth=12, n_estimators=10, total=   0.4s\n",
      "[CV] max_depth=12, n_estimators=10 ...................................\n",
      "[CV] .................... max_depth=12, n_estimators=10, total=   0.4s\n",
      "[CV] max_depth=12, n_estimators=50 ...................................\n",
      "[CV] .................... max_depth=12, n_estimators=50, total=   2.0s\n",
      "[CV] max_depth=12, n_estimators=50 ...................................\n",
      "[CV] .................... max_depth=12, n_estimators=50, total=   2.0s\n",
      "[CV] max_depth=12, n_estimators=50 ...................................\n",
      "[CV] .................... max_depth=12, n_estimators=50, total=   1.9s\n",
      "[CV] max_depth=12, n_estimators=50 ...................................\n",
      "[CV] .................... max_depth=12, n_estimators=50, total=   2.0s\n",
      "[CV] max_depth=12, n_estimators=100 ..................................\n",
      "[CV] ................... max_depth=12, n_estimators=100, total=   3.9s\n",
      "[CV] max_depth=12, n_estimators=100 ..................................\n",
      "[CV] ................... max_depth=12, n_estimators=100, total=   3.9s\n",
      "[CV] max_depth=12, n_estimators=100 ..................................\n",
      "[CV] ................... max_depth=12, n_estimators=100, total=   3.9s\n",
      "[CV] max_depth=12, n_estimators=100 ..................................\n",
      "[CV] ................... max_depth=12, n_estimators=100, total=   3.9s\n",
      "[CV] max_depth=12, n_estimators=200 ..................................\n",
      "[CV] ................... max_depth=12, n_estimators=200, total=   7.8s\n",
      "[CV] max_depth=12, n_estimators=200 ..................................\n",
      "[CV] ................... max_depth=12, n_estimators=200, total=   7.8s\n",
      "[CV] max_depth=12, n_estimators=200 ..................................\n",
      "[CV] ................... max_depth=12, n_estimators=200, total=   7.8s\n",
      "[CV] max_depth=12, n_estimators=200 ..................................\n",
      "[CV] ................... max_depth=12, n_estimators=200, total=   7.8s\n",
      "[CV] max_depth=10, n_estimators=3 ....................................\n",
      "[CV] ..................... max_depth=10, n_estimators=3, total=   0.1s\n",
      "[CV] max_depth=10, n_estimators=3 ....................................\n",
      "[CV] ..................... max_depth=10, n_estimators=3, total=   0.1s\n",
      "[CV] max_depth=10, n_estimators=3 ....................................\n",
      "[CV] ..................... max_depth=10, n_estimators=3, total=   0.1s\n",
      "[CV] max_depth=10, n_estimators=3 ....................................\n",
      "[CV] ..................... max_depth=10, n_estimators=3, total=   0.1s\n",
      "[CV] max_depth=10, n_estimators=6 ....................................\n",
      "[CV] ..................... max_depth=10, n_estimators=6, total=   0.2s\n",
      "[CV] max_depth=10, n_estimators=6 ....................................\n",
      "[CV] ..................... max_depth=10, n_estimators=6, total=   0.2s\n",
      "[CV] max_depth=10, n_estimators=6 ....................................\n",
      "[CV] ..................... max_depth=10, n_estimators=6, total=   0.2s\n",
      "[CV] max_depth=10, n_estimators=6 ....................................\n",
      "[CV] ..................... max_depth=10, n_estimators=6, total=   0.2s\n",
      "[CV] max_depth=10, n_estimators=9 ....................................\n",
      "[CV] ..................... max_depth=10, n_estimators=9, total=   0.3s\n",
      "[CV] max_depth=10, n_estimators=9 ....................................\n",
      "[CV] ..................... max_depth=10, n_estimators=9, total=   0.3s\n",
      "[CV] max_depth=10, n_estimators=9 ....................................\n",
      "[CV] ..................... max_depth=10, n_estimators=9, total=   0.3s\n",
      "[CV] max_depth=10, n_estimators=9 ....................................\n",
      "[CV] ..................... max_depth=10, n_estimators=9, total=   0.3s\n",
      "[CV] max_depth=10, n_estimators=12 ...................................\n",
      "[CV] .................... max_depth=10, n_estimators=12, total=   0.4s\n",
      "[CV] max_depth=10, n_estimators=12 ...................................\n",
      "[CV] .................... max_depth=10, n_estimators=12, total=   0.4s\n",
      "[CV] max_depth=10, n_estimators=12 ...................................\n",
      "[CV] .................... max_depth=10, n_estimators=12, total=   0.4s\n",
      "[CV] max_depth=10, n_estimators=12 ...................................\n",
      "[CV] .................... max_depth=10, n_estimators=12, total=   0.4s\n",
      "[CV] max_depth=10, n_estimators=10 ...................................\n",
      "[CV] .................... max_depth=10, n_estimators=10, total=   0.4s\n",
      "[CV] max_depth=10, n_estimators=10 ...................................\n",
      "[CV] .................... max_depth=10, n_estimators=10, total=   0.3s\n",
      "[CV] max_depth=10, n_estimators=10 ...................................\n",
      "[CV] .................... max_depth=10, n_estimators=10, total=   0.3s\n",
      "[CV] max_depth=10, n_estimators=10 ...................................\n",
      "[CV] .................... max_depth=10, n_estimators=10, total=   0.4s\n",
      "[CV] max_depth=10, n_estimators=50 ...................................\n",
      "[CV] .................... max_depth=10, n_estimators=50, total=   1.7s\n",
      "[CV] max_depth=10, n_estimators=50 ...................................\n",
      "[CV] .................... max_depth=10, n_estimators=50, total=   1.7s\n",
      "[CV] max_depth=10, n_estimators=50 ...................................\n",
      "[CV] .................... max_depth=10, n_estimators=50, total=   1.7s\n",
      "[CV] max_depth=10, n_estimators=50 ...................................\n",
      "[CV] .................... max_depth=10, n_estimators=50, total=   1.7s\n",
      "[CV] max_depth=10, n_estimators=100 ..................................\n",
      "[CV] ................... max_depth=10, n_estimators=100, total=   3.4s\n",
      "[CV] max_depth=10, n_estimators=100 ..................................\n",
      "[CV] ................... max_depth=10, n_estimators=100, total=   3.4s\n",
      "[CV] max_depth=10, n_estimators=100 ..................................\n",
      "[CV] ................... max_depth=10, n_estimators=100, total=   3.4s\n",
      "[CV] max_depth=10, n_estimators=100 ..................................\n",
      "[CV] ................... max_depth=10, n_estimators=100, total=   3.4s\n",
      "[CV] max_depth=10, n_estimators=200 ..................................\n",
      "[CV] ................... max_depth=10, n_estimators=200, total=   6.8s\n",
      "[CV] max_depth=10, n_estimators=200 ..................................\n",
      "[CV] ................... max_depth=10, n_estimators=200, total=   6.8s\n",
      "[CV] max_depth=10, n_estimators=200 ..................................\n",
      "[CV] ................... max_depth=10, n_estimators=200, total=   6.8s\n",
      "[CV] max_depth=10, n_estimators=200 ..................................\n",
      "[CV] ................... max_depth=10, n_estimators=200, total=   6.8s\n",
      "[CV] max_depth=50, n_estimators=3 ....................................\n",
      "[CV] ..................... max_depth=50, n_estimators=3, total=   0.2s\n",
      "[CV] max_depth=50, n_estimators=3 ....................................\n",
      "[CV] ..................... max_depth=50, n_estimators=3, total=   0.2s\n",
      "[CV] max_depth=50, n_estimators=3 ....................................\n",
      "[CV] ..................... max_depth=50, n_estimators=3, total=   0.2s\n",
      "[CV] max_depth=50, n_estimators=3 ....................................\n",
      "[CV] ..................... max_depth=50, n_estimators=3, total=   0.2s\n",
      "[CV] max_depth=50, n_estimators=6 ....................................\n",
      "[CV] ..................... max_depth=50, n_estimators=6, total=   0.3s\n",
      "[CV] max_depth=50, n_estimators=6 ....................................\n",
      "[CV] ..................... max_depth=50, n_estimators=6, total=   0.3s\n",
      "[CV] max_depth=50, n_estimators=6 ....................................\n",
      "[CV] ..................... max_depth=50, n_estimators=6, total=   0.3s\n",
      "[CV] max_depth=50, n_estimators=6 ....................................\n",
      "[CV] ..................... max_depth=50, n_estimators=6, total=   0.3s\n",
      "[CV] max_depth=50, n_estimators=9 ....................................\n",
      "[CV] ..................... max_depth=50, n_estimators=9, total=   0.5s\n",
      "[CV] max_depth=50, n_estimators=9 ....................................\n",
      "[CV] ..................... max_depth=50, n_estimators=9, total=   0.5s\n",
      "[CV] max_depth=50, n_estimators=9 ....................................\n",
      "[CV] ..................... max_depth=50, n_estimators=9, total=   0.5s\n",
      "[CV] max_depth=50, n_estimators=9 ....................................\n",
      "[CV] ..................... max_depth=50, n_estimators=9, total=   0.5s\n",
      "[CV] max_depth=50, n_estimators=12 ...................................\n",
      "[CV] .................... max_depth=50, n_estimators=12, total=   0.7s\n",
      "[CV] max_depth=50, n_estimators=12 ...................................\n",
      "[CV] .................... max_depth=50, n_estimators=12, total=   0.7s\n",
      "[CV] max_depth=50, n_estimators=12 ...................................\n",
      "[CV] .................... max_depth=50, n_estimators=12, total=   0.7s\n",
      "[CV] max_depth=50, n_estimators=12 ...................................\n",
      "[CV] .................... max_depth=50, n_estimators=12, total=   0.7s\n",
      "[CV] max_depth=50, n_estimators=10 ...................................\n",
      "[CV] .................... max_depth=50, n_estimators=10, total=   0.6s\n",
      "[CV] max_depth=50, n_estimators=10 ...................................\n",
      "[CV] .................... max_depth=50, n_estimators=10, total=   0.5s\n",
      "[CV] max_depth=50, n_estimators=10 ...................................\n",
      "[CV] .................... max_depth=50, n_estimators=10, total=   0.6s\n",
      "[CV] max_depth=50, n_estimators=10 ...................................\n",
      "[CV] .................... max_depth=50, n_estimators=10, total=   0.6s\n",
      "[CV] max_depth=50, n_estimators=50 ...................................\n",
      "[CV] .................... max_depth=50, n_estimators=50, total=   2.7s\n",
      "[CV] max_depth=50, n_estimators=50 ...................................\n",
      "[CV] .................... max_depth=50, n_estimators=50, total=   2.7s\n",
      "[CV] max_depth=50, n_estimators=50 ...................................\n",
      "[CV] .................... max_depth=50, n_estimators=50, total=   2.7s\n",
      "[CV] max_depth=50, n_estimators=50 ...................................\n",
      "[CV] .................... max_depth=50, n_estimators=50, total=   2.7s\n",
      "[CV] max_depth=50, n_estimators=100 ..................................\n",
      "[CV] ................... max_depth=50, n_estimators=100, total=   5.4s\n",
      "[CV] max_depth=50, n_estimators=100 ..................................\n",
      "[CV] ................... max_depth=50, n_estimators=100, total=   5.3s\n",
      "[CV] max_depth=50, n_estimators=100 ..................................\n",
      "[CV] ................... max_depth=50, n_estimators=100, total=   5.3s\n",
      "[CV] max_depth=50, n_estimators=100 ..................................\n",
      "[CV] ................... max_depth=50, n_estimators=100, total=   5.4s\n",
      "[CV] max_depth=50, n_estimators=200 ..................................\n",
      "[CV] ................... max_depth=50, n_estimators=200, total=  10.9s\n",
      "[CV] max_depth=50, n_estimators=200 ..................................\n",
      "[CV] ................... max_depth=50, n_estimators=200, total=  10.6s\n",
      "[CV] max_depth=50, n_estimators=200 ..................................\n",
      "[CV] ................... max_depth=50, n_estimators=200, total=  10.7s\n",
      "[CV] max_depth=50, n_estimators=200 ..................................\n",
      "[CV] ................... max_depth=50, n_estimators=200, total=  10.8s\n",
      "[CV] max_depth=100, n_estimators=3 ...................................\n",
      "[CV] .................... max_depth=100, n_estimators=3, total=   0.2s\n",
      "[CV] max_depth=100, n_estimators=3 ...................................\n",
      "[CV] .................... max_depth=100, n_estimators=3, total=   0.2s\n",
      "[CV] max_depth=100, n_estimators=3 ...................................\n",
      "[CV] .................... max_depth=100, n_estimators=3, total=   0.2s\n",
      "[CV] max_depth=100, n_estimators=3 ...................................\n",
      "[CV] .................... max_depth=100, n_estimators=3, total=   0.2s\n",
      "[CV] max_depth=100, n_estimators=6 ...................................\n",
      "[CV] .................... max_depth=100, n_estimators=6, total=   0.3s\n",
      "[CV] max_depth=100, n_estimators=6 ...................................\n",
      "[CV] .................... max_depth=100, n_estimators=6, total=   0.3s\n",
      "[CV] max_depth=100, n_estimators=6 ...................................\n",
      "[CV] .................... max_depth=100, n_estimators=6, total=   0.3s\n",
      "[CV] max_depth=100, n_estimators=6 ...................................\n",
      "[CV] .................... max_depth=100, n_estimators=6, total=   0.3s\n",
      "[CV] max_depth=100, n_estimators=9 ...................................\n",
      "[CV] .................... max_depth=100, n_estimators=9, total=   0.5s\n",
      "[CV] max_depth=100, n_estimators=9 ...................................\n",
      "[CV] .................... max_depth=100, n_estimators=9, total=   0.5s\n",
      "[CV] max_depth=100, n_estimators=9 ...................................\n",
      "[CV] .................... max_depth=100, n_estimators=9, total=   0.5s\n",
      "[CV] max_depth=100, n_estimators=9 ...................................\n",
      "[CV] .................... max_depth=100, n_estimators=9, total=   0.5s\n",
      "[CV] max_depth=100, n_estimators=12 ..................................\n",
      "[CV] ................... max_depth=100, n_estimators=12, total=   0.7s\n",
      "[CV] max_depth=100, n_estimators=12 ..................................\n",
      "[CV] ................... max_depth=100, n_estimators=12, total=   0.7s\n",
      "[CV] max_depth=100, n_estimators=12 ..................................\n",
      "[CV] ................... max_depth=100, n_estimators=12, total=   0.7s\n",
      "[CV] max_depth=100, n_estimators=12 ..................................\n",
      "[CV] ................... max_depth=100, n_estimators=12, total=   0.7s\n",
      "[CV] max_depth=100, n_estimators=10 ..................................\n",
      "[CV] ................... max_depth=100, n_estimators=10, total=   0.6s\n",
      "[CV] max_depth=100, n_estimators=10 ..................................\n",
      "[CV] ................... max_depth=100, n_estimators=10, total=   0.5s\n",
      "[CV] max_depth=100, n_estimators=10 ..................................\n",
      "[CV] ................... max_depth=100, n_estimators=10, total=   0.6s\n",
      "[CV] max_depth=100, n_estimators=10 ..................................\n",
      "[CV] ................... max_depth=100, n_estimators=10, total=   0.6s\n",
      "[CV] max_depth=100, n_estimators=50 ..................................\n",
      "[CV] ................... max_depth=100, n_estimators=50, total=   2.7s\n",
      "[CV] max_depth=100, n_estimators=50 ..................................\n",
      "[CV] ................... max_depth=100, n_estimators=50, total=   2.7s\n",
      "[CV] max_depth=100, n_estimators=50 ..................................\n",
      "[CV] ................... max_depth=100, n_estimators=50, total=   2.7s\n",
      "[CV] max_depth=100, n_estimators=50 ..................................\n",
      "[CV] ................... max_depth=100, n_estimators=50, total=   2.7s\n",
      "[CV] max_depth=100, n_estimators=100 .................................\n",
      "[CV] .................. max_depth=100, n_estimators=100, total=   5.4s\n",
      "[CV] max_depth=100, n_estimators=100 .................................\n",
      "[CV] .................. max_depth=100, n_estimators=100, total=   5.3s\n",
      "[CV] max_depth=100, n_estimators=100 .................................\n",
      "[CV] .................. max_depth=100, n_estimators=100, total=   5.4s\n",
      "[CV] max_depth=100, n_estimators=100 .................................\n",
      "[CV] .................. max_depth=100, n_estimators=100, total=   5.4s\n",
      "[CV] max_depth=100, n_estimators=200 .................................\n",
      "[CV] .................. max_depth=100, n_estimators=200, total=  10.8s\n",
      "[CV] max_depth=100, n_estimators=200 .................................\n",
      "[CV] .................. max_depth=100, n_estimators=200, total=  10.6s\n",
      "[CV] max_depth=100, n_estimators=200 .................................\n",
      "[CV] .................. max_depth=100, n_estimators=200, total=  10.7s\n",
      "[CV] max_depth=100, n_estimators=200 .................................\n",
      "[CV] .................. max_depth=100, n_estimators=200, total=  10.9s\n",
      "[CV] max_depth=200, n_estimators=3 ...................................\n",
      "[CV] .................... max_depth=200, n_estimators=3, total=   0.2s\n",
      "[CV] max_depth=200, n_estimators=3 ...................................\n",
      "[CV] .................... max_depth=200, n_estimators=3, total=   0.2s\n",
      "[CV] max_depth=200, n_estimators=3 ...................................\n",
      "[CV] .................... max_depth=200, n_estimators=3, total=   0.2s\n",
      "[CV] max_depth=200, n_estimators=3 ...................................\n",
      "[CV] .................... max_depth=200, n_estimators=3, total=   0.2s\n",
      "[CV] max_depth=200, n_estimators=6 ...................................\n",
      "[CV] .................... max_depth=200, n_estimators=6, total=   0.3s\n",
      "[CV] max_depth=200, n_estimators=6 ...................................\n",
      "[CV] .................... max_depth=200, n_estimators=6, total=   0.3s\n",
      "[CV] max_depth=200, n_estimators=6 ...................................\n",
      "[CV] .................... max_depth=200, n_estimators=6, total=   0.3s\n",
      "[CV] max_depth=200, n_estimators=6 ...................................\n",
      "[CV] .................... max_depth=200, n_estimators=6, total=   0.3s\n",
      "[CV] max_depth=200, n_estimators=9 ...................................\n",
      "[CV] .................... max_depth=200, n_estimators=9, total=   0.5s\n",
      "[CV] max_depth=200, n_estimators=9 ...................................\n",
      "[CV] .................... max_depth=200, n_estimators=9, total=   0.5s\n",
      "[CV] max_depth=200, n_estimators=9 ...................................\n",
      "[CV] .................... max_depth=200, n_estimators=9, total=   0.5s\n",
      "[CV] max_depth=200, n_estimators=9 ...................................\n",
      "[CV] .................... max_depth=200, n_estimators=9, total=   0.5s\n",
      "[CV] max_depth=200, n_estimators=12 ..................................\n",
      "[CV] ................... max_depth=200, n_estimators=12, total=   0.7s\n",
      "[CV] max_depth=200, n_estimators=12 ..................................\n",
      "[CV] ................... max_depth=200, n_estimators=12, total=   0.7s\n",
      "[CV] max_depth=200, n_estimators=12 ..................................\n",
      "[CV] ................... max_depth=200, n_estimators=12, total=   0.7s\n",
      "[CV] max_depth=200, n_estimators=12 ..................................\n",
      "[CV] ................... max_depth=200, n_estimators=12, total=   0.7s\n",
      "[CV] max_depth=200, n_estimators=10 ..................................\n",
      "[CV] ................... max_depth=200, n_estimators=10, total=   0.6s\n",
      "[CV] max_depth=200, n_estimators=10 ..................................\n",
      "[CV] ................... max_depth=200, n_estimators=10, total=   0.6s\n",
      "[CV] max_depth=200, n_estimators=10 ..................................\n",
      "[CV] ................... max_depth=200, n_estimators=10, total=   0.6s\n",
      "[CV] max_depth=200, n_estimators=10 ..................................\n",
      "[CV] ................... max_depth=200, n_estimators=10, total=   0.6s\n",
      "[CV] max_depth=200, n_estimators=50 ..................................\n",
      "[CV] ................... max_depth=200, n_estimators=50, total=   2.8s\n",
      "[CV] max_depth=200, n_estimators=50 ..................................\n",
      "[CV] ................... max_depth=200, n_estimators=50, total=   2.7s\n",
      "[CV] max_depth=200, n_estimators=50 ..................................\n",
      "[CV] ................... max_depth=200, n_estimators=50, total=   2.7s\n",
      "[CV] max_depth=200, n_estimators=50 ..................................\n",
      "[CV] ................... max_depth=200, n_estimators=50, total=   2.7s\n",
      "[CV] max_depth=200, n_estimators=100 .................................\n",
      "[CV] .................. max_depth=200, n_estimators=100, total=   5.4s\n",
      "[CV] max_depth=200, n_estimators=100 .................................\n",
      "[CV] .................. max_depth=200, n_estimators=100, total=   5.3s\n",
      "[CV] max_depth=200, n_estimators=100 .................................\n",
      "[CV] .................. max_depth=200, n_estimators=100, total=   5.3s\n",
      "[CV] max_depth=200, n_estimators=100 .................................\n",
      "[CV] .................. max_depth=200, n_estimators=100, total=   5.4s\n",
      "[CV] max_depth=200, n_estimators=200 .................................\n",
      "[CV] .................. max_depth=200, n_estimators=200, total=  10.8s\n",
      "[CV] max_depth=200, n_estimators=200 .................................\n",
      "[CV] .................. max_depth=200, n_estimators=200, total=  10.6s\n",
      "[CV] max_depth=200, n_estimators=200 .................................\n",
      "[CV] .................. max_depth=200, n_estimators=200, total=  10.7s\n",
      "[CV] max_depth=200, n_estimators=200 .................................\n",
      "[CV] .................. max_depth=200, n_estimators=200, total=  10.8s\n"
     ]
    },
    {
     "name": "stderr",
     "output_type": "stream",
     "text": [
      "[Parallel(n_jobs=1)]: Done 256 out of 256 | elapsed:  8.3min finished\n",
      "/usr/local/lib/python3.6/dist-packages/sklearn/model_selection/_search.py:823: FutureWarning: The parameter 'iid' is deprecated in 0.22 and will be removed in 0.24.\n",
      "  \"removed in 0.24.\", FutureWarning\n"
     ]
    },
    {
     "data": {
      "text/plain": [
       "GridSearchCV(cv=4, error_score=nan,\n",
       "             estimator=RandomForestClassifier(bootstrap=True, ccp_alpha=0.0,\n",
       "                                              class_weight=None,\n",
       "                                              criterion='gini', max_depth=3,\n",
       "                                              max_features='auto',\n",
       "                                              max_leaf_nodes=None,\n",
       "                                              max_samples=None,\n",
       "                                              min_impurity_decrease=0.0,\n",
       "                                              min_impurity_split=None,\n",
       "                                              min_samples_leaf=1,\n",
       "                                              min_samples_split=2,\n",
       "                                              min_weight_fraction_leaf=0.0,\n",
       "                                              n_estimators=10, n_jobs=None,\n",
       "                                              oob_score=False, random_state=4,\n",
       "                                              verbose=0, warm_start=False),\n",
       "             iid=False, n_jobs=None,\n",
       "             param_grid={'max_depth': [3, 6, 9, 12, 10, 50, 100, 200],\n",
       "                         'n_estimators': [3, 6, 9, 12, 10, 50, 100, 200]},\n",
       "             pre_dispatch=None, refit=True, return_train_score=True,\n",
       "             scoring='roc_auc', verbose=2)"
      ]
     },
     "execution_count": 17,
     "metadata": {
      "tags": []
     },
     "output_type": "execute_result"
    }
   ],
   "source": [
    "cv.fit(X_train,y_train)"
   ]
  },
  {
   "cell_type": "markdown",
   "metadata": {
    "id": "KMZ85fKstHJr"
   },
   "source": [
    "___________________________________________________________\n",
    "**Put the results of the grid search in a pandas DataFrame.**"
   ]
  },
  {
   "cell_type": "code",
   "execution_count": 20,
   "metadata": {
    "colab": {
     "base_uri": "https://localhost:8080/",
     "height": 949
    },
    "id": "MDyFG3I0tHJs",
    "outputId": "ea2b3b28-230a-46c8-f1e2-9800954e13fe",
    "scrolled": true
   },
   "outputs": [
    {
     "data": {
      "text/html": [
       "<div>\n",
       "<style scoped>\n",
       "    .dataframe tbody tr th:only-of-type {\n",
       "        vertical-align: middle;\n",
       "    }\n",
       "\n",
       "    .dataframe tbody tr th {\n",
       "        vertical-align: top;\n",
       "    }\n",
       "\n",
       "    .dataframe thead th {\n",
       "        text-align: right;\n",
       "    }\n",
       "</style>\n",
       "<table border=\"1\" class=\"dataframe\">\n",
       "  <thead>\n",
       "    <tr style=\"text-align: right;\">\n",
       "      <th></th>\n",
       "      <th>mean_fit_time</th>\n",
       "      <th>std_fit_time</th>\n",
       "      <th>mean_score_time</th>\n",
       "      <th>std_score_time</th>\n",
       "      <th>param_max_depth</th>\n",
       "      <th>param_n_estimators</th>\n",
       "      <th>params</th>\n",
       "      <th>split0_test_score</th>\n",
       "      <th>split1_test_score</th>\n",
       "      <th>split2_test_score</th>\n",
       "      <th>split3_test_score</th>\n",
       "      <th>mean_test_score</th>\n",
       "      <th>std_test_score</th>\n",
       "      <th>rank_test_score</th>\n",
       "      <th>split0_train_score</th>\n",
       "      <th>split1_train_score</th>\n",
       "      <th>split2_train_score</th>\n",
       "      <th>split3_train_score</th>\n",
       "      <th>mean_train_score</th>\n",
       "      <th>std_train_score</th>\n",
       "    </tr>\n",
       "  </thead>\n",
       "  <tbody>\n",
       "    <tr>\n",
       "      <th>0</th>\n",
       "      <td>0.043256</td>\n",
       "      <td>0.003759</td>\n",
       "      <td>0.004518</td>\n",
       "      <td>0.000378</td>\n",
       "      <td>3</td>\n",
       "      <td>3</td>\n",
       "      <td>{'max_depth': 3, 'n_estimators': 3}</td>\n",
       "      <td>0.735632</td>\n",
       "      <td>0.742006</td>\n",
       "      <td>0.763023</td>\n",
       "      <td>0.764261</td>\n",
       "      <td>0.751231</td>\n",
       "      <td>0.012622</td>\n",
       "      <td>45</td>\n",
       "      <td>0.762451</td>\n",
       "      <td>0.759654</td>\n",
       "      <td>0.753388</td>\n",
       "      <td>0.754808</td>\n",
       "      <td>0.757575</td>\n",
       "      <td>3.649989e-03</td>\n",
       "    </tr>\n",
       "    <tr>\n",
       "      <th>1</th>\n",
       "      <td>0.078355</td>\n",
       "      <td>0.001153</td>\n",
       "      <td>0.005527</td>\n",
       "      <td>0.000153</td>\n",
       "      <td>3</td>\n",
       "      <td>6</td>\n",
       "      <td>{'max_depth': 3, 'n_estimators': 6}</td>\n",
       "      <td>0.739184</td>\n",
       "      <td>0.744492</td>\n",
       "      <td>0.768475</td>\n",
       "      <td>0.766366</td>\n",
       "      <td>0.754629</td>\n",
       "      <td>0.012950</td>\n",
       "      <td>44</td>\n",
       "      <td>0.766346</td>\n",
       "      <td>0.761445</td>\n",
       "      <td>0.754626</td>\n",
       "      <td>0.759234</td>\n",
       "      <td>0.760413</td>\n",
       "      <td>4.217577e-03</td>\n",
       "    </tr>\n",
       "    <tr>\n",
       "      <th>2</th>\n",
       "      <td>0.120674</td>\n",
       "      <td>0.001780</td>\n",
       "      <td>0.006726</td>\n",
       "      <td>0.000117</td>\n",
       "      <td>3</td>\n",
       "      <td>9</td>\n",
       "      <td>{'max_depth': 3, 'n_estimators': 9}</td>\n",
       "      <td>0.740064</td>\n",
       "      <td>0.748249</td>\n",
       "      <td>0.773263</td>\n",
       "      <td>0.770180</td>\n",
       "      <td>0.757939</td>\n",
       "      <td>0.014125</td>\n",
       "      <td>35</td>\n",
       "      <td>0.767631</td>\n",
       "      <td>0.766475</td>\n",
       "      <td>0.760048</td>\n",
       "      <td>0.763147</td>\n",
       "      <td>0.764325</td>\n",
       "      <td>2.968093e-03</td>\n",
       "    </tr>\n",
       "    <tr>\n",
       "      <th>3</th>\n",
       "      <td>0.160110</td>\n",
       "      <td>0.002645</td>\n",
       "      <td>0.007941</td>\n",
       "      <td>0.000102</td>\n",
       "      <td>3</td>\n",
       "      <td>12</td>\n",
       "      <td>{'max_depth': 3, 'n_estimators': 12}</td>\n",
       "      <td>0.740239</td>\n",
       "      <td>0.748372</td>\n",
       "      <td>0.772726</td>\n",
       "      <td>0.771726</td>\n",
       "      <td>0.758266</td>\n",
       "      <td>0.014258</td>\n",
       "      <td>34</td>\n",
       "      <td>0.768715</td>\n",
       "      <td>0.768241</td>\n",
       "      <td>0.760763</td>\n",
       "      <td>0.763495</td>\n",
       "      <td>0.765303</td>\n",
       "      <td>3.322300e-03</td>\n",
       "    </tr>\n",
       "    <tr>\n",
       "      <th>4</th>\n",
       "      <td>0.132414</td>\n",
       "      <td>0.000444</td>\n",
       "      <td>0.007195</td>\n",
       "      <td>0.000183</td>\n",
       "      <td>3</td>\n",
       "      <td>10</td>\n",
       "      <td>{'max_depth': 3, 'n_estimators': 10}</td>\n",
       "      <td>0.739183</td>\n",
       "      <td>0.746599</td>\n",
       "      <td>0.772127</td>\n",
       "      <td>0.771322</td>\n",
       "      <td>0.757308</td>\n",
       "      <td>0.014656</td>\n",
       "      <td>36</td>\n",
       "      <td>0.767973</td>\n",
       "      <td>0.767158</td>\n",
       "      <td>0.760550</td>\n",
       "      <td>0.763683</td>\n",
       "      <td>0.764841</td>\n",
       "      <td>2.955178e-03</td>\n",
       "    </tr>\n",
       "    <tr>\n",
       "      <th>...</th>\n",
       "      <td>...</td>\n",
       "      <td>...</td>\n",
       "      <td>...</td>\n",
       "      <td>...</td>\n",
       "      <td>...</td>\n",
       "      <td>...</td>\n",
       "      <td>...</td>\n",
       "      <td>...</td>\n",
       "      <td>...</td>\n",
       "      <td>...</td>\n",
       "      <td>...</td>\n",
       "      <td>...</td>\n",
       "      <td>...</td>\n",
       "      <td>...</td>\n",
       "      <td>...</td>\n",
       "      <td>...</td>\n",
       "      <td>...</td>\n",
       "      <td>...</td>\n",
       "      <td>...</td>\n",
       "      <td>...</td>\n",
       "    </tr>\n",
       "    <tr>\n",
       "      <th>59</th>\n",
       "      <td>0.654777</td>\n",
       "      <td>0.007135</td>\n",
       "      <td>0.017505</td>\n",
       "      <td>0.000446</td>\n",
       "      <td>200</td>\n",
       "      <td>12</td>\n",
       "      <td>{'max_depth': 200, 'n_estimators': 12}</td>\n",
       "      <td>0.722768</td>\n",
       "      <td>0.719182</td>\n",
       "      <td>0.736082</td>\n",
       "      <td>0.738587</td>\n",
       "      <td>0.729155</td>\n",
       "      <td>0.008324</td>\n",
       "      <td>50</td>\n",
       "      <td>0.999422</td>\n",
       "      <td>0.999534</td>\n",
       "      <td>0.999511</td>\n",
       "      <td>0.999436</td>\n",
       "      <td>0.999476</td>\n",
       "      <td>4.761300e-05</td>\n",
       "    </tr>\n",
       "    <tr>\n",
       "      <th>60</th>\n",
       "      <td>0.547210</td>\n",
       "      <td>0.008020</td>\n",
       "      <td>0.015030</td>\n",
       "      <td>0.000376</td>\n",
       "      <td>200</td>\n",
       "      <td>10</td>\n",
       "      <td>{'max_depth': 200, 'n_estimators': 10}</td>\n",
       "      <td>0.719099</td>\n",
       "      <td>0.716455</td>\n",
       "      <td>0.726477</td>\n",
       "      <td>0.732393</td>\n",
       "      <td>0.723606</td>\n",
       "      <td>0.006263</td>\n",
       "      <td>53</td>\n",
       "      <td>0.998988</td>\n",
       "      <td>0.999059</td>\n",
       "      <td>0.999169</td>\n",
       "      <td>0.999031</td>\n",
       "      <td>0.999062</td>\n",
       "      <td>6.702826e-05</td>\n",
       "    </tr>\n",
       "    <tr>\n",
       "      <th>61</th>\n",
       "      <td>2.651784</td>\n",
       "      <td>0.028945</td>\n",
       "      <td>0.060889</td>\n",
       "      <td>0.000326</td>\n",
       "      <td>200</td>\n",
       "      <td>50</td>\n",
       "      <td>{'max_depth': 200, 'n_estimators': 50}</td>\n",
       "      <td>0.749988</td>\n",
       "      <td>0.740645</td>\n",
       "      <td>0.770952</td>\n",
       "      <td>0.760678</td>\n",
       "      <td>0.755566</td>\n",
       "      <td>0.011364</td>\n",
       "      <td>40</td>\n",
       "      <td>0.999986</td>\n",
       "      <td>0.999995</td>\n",
       "      <td>0.999996</td>\n",
       "      <td>0.999979</td>\n",
       "      <td>0.999989</td>\n",
       "      <td>6.863676e-06</td>\n",
       "    </tr>\n",
       "    <tr>\n",
       "      <th>62</th>\n",
       "      <td>5.247294</td>\n",
       "      <td>0.031938</td>\n",
       "      <td>0.119471</td>\n",
       "      <td>0.001993</td>\n",
       "      <td>200</td>\n",
       "      <td>100</td>\n",
       "      <td>{'max_depth': 200, 'n_estimators': 100}</td>\n",
       "      <td>0.754540</td>\n",
       "      <td>0.746899</td>\n",
       "      <td>0.773768</td>\n",
       "      <td>0.762207</td>\n",
       "      <td>0.759353</td>\n",
       "      <td>0.009927</td>\n",
       "      <td>31</td>\n",
       "      <td>0.999997</td>\n",
       "      <td>0.999997</td>\n",
       "      <td>0.999999</td>\n",
       "      <td>0.999992</td>\n",
       "      <td>0.999996</td>\n",
       "      <td>2.597821e-06</td>\n",
       "    </tr>\n",
       "    <tr>\n",
       "      <th>63</th>\n",
       "      <td>10.502383</td>\n",
       "      <td>0.073634</td>\n",
       "      <td>0.234296</td>\n",
       "      <td>0.001067</td>\n",
       "      <td>200</td>\n",
       "      <td>200</td>\n",
       "      <td>{'max_depth': 200, 'n_estimators': 200}</td>\n",
       "      <td>0.756624</td>\n",
       "      <td>0.750173</td>\n",
       "      <td>0.773143</td>\n",
       "      <td>0.766134</td>\n",
       "      <td>0.761518</td>\n",
       "      <td>0.008791</td>\n",
       "      <td>28</td>\n",
       "      <td>0.999997</td>\n",
       "      <td>0.999998</td>\n",
       "      <td>0.999999</td>\n",
       "      <td>0.999998</td>\n",
       "      <td>0.999998</td>\n",
       "      <td>6.107898e-07</td>\n",
       "    </tr>\n",
       "  </tbody>\n",
       "</table>\n",
       "<p>64 rows × 20 columns</p>\n",
       "</div>"
      ],
      "text/plain": [
       "    mean_fit_time  std_fit_time  ...  mean_train_score  std_train_score\n",
       "0        0.043256      0.003759  ...          0.757575     3.649989e-03\n",
       "1        0.078355      0.001153  ...          0.760413     4.217577e-03\n",
       "2        0.120674      0.001780  ...          0.764325     2.968093e-03\n",
       "3        0.160110      0.002645  ...          0.765303     3.322300e-03\n",
       "4        0.132414      0.000444  ...          0.764841     2.955178e-03\n",
       "..            ...           ...  ...               ...              ...\n",
       "59       0.654777      0.007135  ...          0.999476     4.761300e-05\n",
       "60       0.547210      0.008020  ...          0.999062     6.702826e-05\n",
       "61       2.651784      0.028945  ...          0.999989     6.863676e-06\n",
       "62       5.247294      0.031938  ...          0.999996     2.597821e-06\n",
       "63      10.502383      0.073634  ...          0.999998     6.107898e-07\n",
       "\n",
       "[64 rows x 20 columns]"
      ]
     },
     "execution_count": 20,
     "metadata": {
      "tags": []
     },
     "output_type": "execute_result"
    }
   ],
   "source": [
    "cv_results_df = pd.DataFrame(cv.cv_results_)\n",
    "cv_results_df"
   ]
  },
  {
   "cell_type": "code",
   "execution_count": 24,
   "metadata": {
    "colab": {
     "base_uri": "https://localhost:8080/"
    },
    "id": "yTyMozAh8zkM",
    "outputId": "3f97e6c7-ea57-4f63-8739-17fcc9fff6b6"
   },
   "outputs": [
    {
     "data": {
      "text/plain": [
       "Index(['mean_fit_time', 'std_fit_time', 'mean_score_time', 'std_score_time',\n",
       "       'param_max_depth', 'param_n_estimators', 'params', 'split0_test_score',\n",
       "       'split1_test_score', 'split2_test_score', 'split3_test_score',\n",
       "       'mean_test_score', 'std_test_score', 'rank_test_score',\n",
       "       'split0_train_score', 'split1_train_score', 'split2_train_score',\n",
       "       'split3_train_score', 'mean_train_score', 'std_train_score'],\n",
       "      dtype='object')"
      ]
     },
     "execution_count": 24,
     "metadata": {
      "tags": []
     },
     "output_type": "execute_result"
    }
   ],
   "source": [
    "cv_results_df.columns"
   ]
  },
  {
   "cell_type": "code",
   "execution_count": null,
   "metadata": {
    "id": "7I4dU4Q-Bj1U"
   },
   "outputs": [],
   "source": [
    "feat_imp_df = pd.DataFrame({\n",
    "    'Feature name' : \n",
    "})"
   ]
  },
  {
   "cell_type": "markdown",
   "metadata": {
    "id": "IjrOPntTtHJs"
   },
   "source": [
    "**Find the best hyperparameters from the cross-validation.**"
   ]
  },
  {
   "cell_type": "code",
   "execution_count": 22,
   "metadata": {
    "colab": {
     "base_uri": "https://localhost:8080/"
    },
    "id": "dkEqDyLGtHJs",
    "outputId": "09afc15d-eee0-46d1-d7e1-c88e3a6fb527"
   },
   "outputs": [
    {
     "data": {
      "text/plain": [
       "{'max_depth': 9, 'n_estimators': 200}"
      ]
     },
     "execution_count": 22,
     "metadata": {
      "tags": []
     },
     "output_type": "execute_result"
    }
   ],
   "source": [
    "cv.best_params_"
   ]
  },
  {
   "cell_type": "markdown",
   "metadata": {
    "id": "g5UkB2I_tHJt"
   },
   "source": [
    "________________________________________________________________________________________________________\n",
    "**Create a `pcolormesh` visualization of the mean testing score for each combination of hyperparameters.**\n",
    "\n",
    "<details>\n",
    "    <summary>Hint:</summary>\n",
    "    Remember to reshape the values of the mean testing scores to be a two-dimensional 4x4 grid.\n",
    "</details>"
   ]
  },
  {
   "cell_type": "code",
   "execution_count": 28,
   "metadata": {
    "colab": {
     "base_uri": "https://localhost:8080/"
    },
    "id": "-kttA3U1tHJt",
    "outputId": "7d3e3834-22fb-4327-ca54-e7d3cca16bd7"
   },
   "outputs": [
    {
     "data": {
      "text/plain": [
       "array([[ 1,  2,  3,  4],\n",
       "       [ 5,  6,  7,  8],\n",
       "       [ 9, 10, 11, 12],\n",
       "       [13, 14, 15, 16]])"
      ]
     },
     "execution_count": 28,
     "metadata": {
      "tags": []
     },
     "output_type": "execute_result"
    }
   ],
   "source": [
    "# Create a 5x5 grid\n",
    "x_exam, y_exam = np.meshgrid(range(5), range(5))\n",
    "z_exam = np.arange(1,17).reshape(4,4)\n",
    "z_exam\n",
    "\n"
   ]
  },
  {
   "cell_type": "code",
   "execution_count": 30,
   "metadata": {
    "id": "eMe5qgUOtHJu"
   },
   "outputs": [],
   "source": [
    "# Set color map to `plt.cm.jet`\n",
    "cmap = plt.cm.jet"
   ]
  },
  {
   "cell_type": "code",
   "execution_count": 34,
   "metadata": {
    "colab": {
     "base_uri": "https://localhost:8080/",
     "height": 300
    },
    "eid": "f0c62",
    "id": "7M_zB7GWtHJu",
    "outputId": "f25bd60c-c297-4627-f76b-ffbbf9003bc5"
   },
   "outputs": [
    {
     "data": {
      "text/plain": [
       "Text(0, 0.5, 'Y coordinates')"
      ]
     },
     "execution_count": 34,
     "metadata": {
      "tags": []
     },
     "output_type": "execute_result"
    },
    {
     "data": {
      "image/png": "[encoded data removed]",
      "text/plain": [
       "<Figure size 432x288 with 2 Axes>"
      ]
     },
     "metadata": {
      "needs_background": "light",
      "tags": []
     },
     "output_type": "display_data"
    }
   ],
   "source": [
    "# Visualize pcolormesh\n",
    "ax = plt.axes()\n",
    "pcolor_ex = ax.pcolormesh(x_exam, y_exam, z_exam, cmap=cmap)\n",
    "plt.colorbar(pcolor_ex, label='COLOR SCALE')\n",
    "ax.set_xlabel('X coordinates')\n",
    "ax.set_ylabel('Y coordinates')"
   ]
  },
  {
   "cell_type": "markdown",
   "metadata": {
    "id": "yNUMztHotHJu"
   },
   "source": [
    "________________________________________________________________________________________________________\n",
    "**Conclude which set of hyperparameters to use.**"
   ]
  },
  {
   "cell_type": "code",
   "execution_count": 47,
   "metadata": {
    "id": "tksh3ZYfKD62"
   },
   "outputs": [],
   "source": [
    " fname = features_response[:-1]"
   ]
  },
  {
   "cell_type": "code",
   "execution_count": 49,
   "metadata": {
    "id": "Err2JT0VtHJv"
   },
   "outputs": [],
   "source": [
    "#create a dataframe of featurename and importance  \n",
    "feat_imp_df = pd.DataFrame({ \n",
    "    'Feature name': fname,\n",
    "    'Importance' :cv.best_estimator_.feature_importances_})\n"
   ]
  },
  {
   "cell_type": "code",
   "execution_count": 51,
   "metadata": {
    "colab": {
     "base_uri": "https://localhost:8080/",
     "height": 576
    },
    "id": "ifOGL3cmtHJv",
    "outputId": "04bf6d5b-9cec-4c59-ab94-36a591800744"
   },
   "outputs": [
    {
     "data": {
      "text/html": [
       "<div>\n",
       "<style scoped>\n",
       "    .dataframe tbody tr th:only-of-type {\n",
       "        vertical-align: middle;\n",
       "    }\n",
       "\n",
       "    .dataframe tbody tr th {\n",
       "        vertical-align: top;\n",
       "    }\n",
       "\n",
       "    .dataframe thead th {\n",
       "        text-align: right;\n",
       "    }\n",
       "</style>\n",
       "<table border=\"1\" class=\"dataframe\">\n",
       "  <thead>\n",
       "    <tr style=\"text-align: right;\">\n",
       "      <th></th>\n",
       "      <th>Feature name</th>\n",
       "      <th>Importance</th>\n",
       "    </tr>\n",
       "  </thead>\n",
       "  <tbody>\n",
       "    <tr>\n",
       "      <th>4</th>\n",
       "      <td>PAY_1</td>\n",
       "      <td>0.437439</td>\n",
       "    </tr>\n",
       "    <tr>\n",
       "      <th>0</th>\n",
       "      <td>LIMIT_BAL</td>\n",
       "      <td>0.059961</td>\n",
       "    </tr>\n",
       "    <tr>\n",
       "      <th>11</th>\n",
       "      <td>PAY_AMT1</td>\n",
       "      <td>0.059434</td>\n",
       "    </tr>\n",
       "    <tr>\n",
       "      <th>12</th>\n",
       "      <td>PAY_AMT2</td>\n",
       "      <td>0.045518</td>\n",
       "    </tr>\n",
       "    <tr>\n",
       "      <th>13</th>\n",
       "      <td>PAY_AMT3</td>\n",
       "      <td>0.043299</td>\n",
       "    </tr>\n",
       "    <tr>\n",
       "      <th>5</th>\n",
       "      <td>BILL_AMT1</td>\n",
       "      <td>0.042195</td>\n",
       "    </tr>\n",
       "    <tr>\n",
       "      <th>6</th>\n",
       "      <td>BILL_AMT2</td>\n",
       "      <td>0.041562</td>\n",
       "    </tr>\n",
       "    <tr>\n",
       "      <th>7</th>\n",
       "      <td>BILL_AMT3</td>\n",
       "      <td>0.037268</td>\n",
       "    </tr>\n",
       "    <tr>\n",
       "      <th>14</th>\n",
       "      <td>PAY_AMT4</td>\n",
       "      <td>0.034321</td>\n",
       "    </tr>\n",
       "    <tr>\n",
       "      <th>8</th>\n",
       "      <td>BILL_AMT4</td>\n",
       "      <td>0.034123</td>\n",
       "    </tr>\n",
       "    <tr>\n",
       "      <th>10</th>\n",
       "      <td>BILL_AMT6</td>\n",
       "      <td>0.033839</td>\n",
       "    </tr>\n",
       "    <tr>\n",
       "      <th>9</th>\n",
       "      <td>BILL_AMT5</td>\n",
       "      <td>0.032413</td>\n",
       "    </tr>\n",
       "    <tr>\n",
       "      <th>15</th>\n",
       "      <td>PAY_AMT5</td>\n",
       "      <td>0.030734</td>\n",
       "    </tr>\n",
       "    <tr>\n",
       "      <th>16</th>\n",
       "      <td>PAY_AMT6</td>\n",
       "      <td>0.029070</td>\n",
       "    </tr>\n",
       "    <tr>\n",
       "      <th>3</th>\n",
       "      <td>AGE</td>\n",
       "      <td>0.026774</td>\n",
       "    </tr>\n",
       "    <tr>\n",
       "      <th>1</th>\n",
       "      <td>EDUCATION</td>\n",
       "      <td>0.007545</td>\n",
       "    </tr>\n",
       "    <tr>\n",
       "      <th>2</th>\n",
       "      <td>MARRIAGE</td>\n",
       "      <td>0.004504</td>\n",
       "    </tr>\n",
       "  </tbody>\n",
       "</table>\n",
       "</div>"
      ],
      "text/plain": [
       "   Feature name  Importance\n",
       "4         PAY_1    0.437439\n",
       "0     LIMIT_BAL    0.059961\n",
       "11     PAY_AMT1    0.059434\n",
       "12     PAY_AMT2    0.045518\n",
       "13     PAY_AMT3    0.043299\n",
       "5     BILL_AMT1    0.042195\n",
       "6     BILL_AMT2    0.041562\n",
       "7     BILL_AMT3    0.037268\n",
       "14     PAY_AMT4    0.034321\n",
       "8     BILL_AMT4    0.034123\n",
       "10    BILL_AMT6    0.033839\n",
       "9     BILL_AMT5    0.032413\n",
       "15     PAY_AMT5    0.030734\n",
       "16     PAY_AMT6    0.029070\n",
       "3           AGE    0.026774\n",
       "1     EDUCATION    0.007545\n",
       "2      MARRIAGE    0.004504"
      ]
     },
     "execution_count": 51,
     "metadata": {
      "tags": []
     },
     "output_type": "execute_result"
    }
   ],
   "source": [
    "# Sort values by importance\n",
    "feat_imp_df.sort_values('Importance', ascending=False)"
   ]
  }
 ],
 "metadata": {
  "colab": {
   "name": "Cross-Validation_Grid_Search_with_Random_Forest.ipynb",
   "provenance": []
  },
  "kernelspec": {
   "display_name": "Python 3",
   "language": "python",
   "name": "python3"
  },
  "language_info": {
   "codemirror_mode": {
    "name": "ipython",
    "version": 3
   },
   "file_extension": ".py",
   "mimetype": "text/x-python",
   "name": "python",
   "nbconvert_exporter": "python",
   "pygments_lexer": "ipython3",
   "version": "3.8.5"
  }
 },
 "nbformat": 4,
 "nbformat_minor": 1
}
